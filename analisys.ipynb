{
 "cells": [
  {
   "cell_type": "code",
   "execution_count": 1,
   "metadata": {},
   "outputs": [],
   "source": [
    "import pandas as pd\n",
    "import matplotlib.pyplot as plt\n",
    "import seaborn as sns\n",
    "import numpy as np"
   ]
  },
  {
   "cell_type": "code",
   "execution_count": 2,
   "metadata": {},
   "outputs": [],
   "source": [
    "dados = pd.read_csv('Coffee_Qlty.csv')\n",
    "dados_numericos_e_continente = pd.concat([dados.select_dtypes(include=[np.number]), dados[['Continent.of.Origin']]], axis=1)\n",
    "qualidade_por_continente = dados_numericos_e_continente.groupby('Continent.of.Origin').mean()"
   ]
  },
  {
   "cell_type": "code",
   "execution_count": 3,
   "metadata": {},
   "outputs": [],
   "source": [
    "metricas_traduzidas = {\n",
    "    'Aroma': 'Aroma',\n",
    "    'Flavor': 'Sabor',\n",
    "    'Acidity': 'Acidez',\n",
    "    'Body': 'Corpo',\n",
    "    'Balance': 'Equilíbrio',\n",
    "    'Uniformity': 'Uniformidade',\n",
    "    'Clean.Cup': 'Xícara Limpa',\n",
    "    'Sweetness': 'Doçura'\n",
    "}"
   ]
  },
  {
   "cell_type": "code",
   "execution_count": null,
   "metadata": {},
   "outputs": [],
   "source": [
    "for metrica_ingles, metrica_portugues in metricas_traduzidas.items():\n",
    "    plt.figure(figsize=(10, 6))\n",
    "    \n",
    "    sns.barplot(\n",
    "        x=qualidade_por_continente[metrica_ingles], \n",
    "        y=qualidade_por_continente.index, \n",
    "        palette=\"mako\",\n",
    "        legend=False\n",
    "    )\n",
    "    \n",
    "    plt.title(f'Avaliação Média de {metrica_portugues} por Continente de Origem', fontsize=16)\n",
    "    plt.xlabel('Pontuação Média', fontsize=14)\n",
    "    plt.ylabel('Continente de Origem', fontsize=14)\n",
    "    \n",
    "    ax = plt.gca()\n",
    "    for bar in ax.patches:\n",
    "        ax.annotate(\n",
    "            format(bar.get_width(), '.2f'), \n",
    "            (bar.get_width(), bar.get_y() + bar.get_height() / 2), \n",
    "            ha='left', \n",
    "            va='center', \n",
    "            xytext=(3, 0), \n",
    "            textcoords='offset points'\n",
    "        )\n",
    "\n",
    "    plt.tight_layout()\n",
    "    plt.show()"
   ]
  }
 ],
 "metadata": {
  "kernelspec": {
   "display_name": "venv",
   "language": "python",
   "name": "python3"
  },
  "language_info": {
   "codemirror_mode": {
    "name": "ipython",
    "version": 3
   },
   "file_extension": ".py",
   "mimetype": "text/x-python",
   "name": "python",
   "nbconvert_exporter": "python",
   "pygments_lexer": "ipython3",
   "version": "3.11.3"
  }
 },
 "nbformat": 4,
 "nbformat_minor": 2
}
